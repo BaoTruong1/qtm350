{
 "cells": [
  {
   "cell_type": "markdown",
   "metadata": {},
   "source": [
    "# QTM 350 - Data Science Computing\n",
    "\n",
    "## Assignment 04: Advanced Git\n",
    "### Due 02 October 2024\n",
    "\n",
    "In this assignment, you will explore Git in more depth, focusing on commands we have not covered in class. You should research how to solve each task using specific Git commands. Feel free to use any tools you prefer to complete the assignment. Explain each command in simple terms. Of course, you are welcome to test them as well! If you have any questions, please let me know.\n",
    "\n",
    "### Questions\n",
    "\n",
    "1. What command would you use to display all the commits that have not yet been pushed to the remote repository?\n",
    "   \n",
    "2. Explain the purpose of the `git tag` command.\n",
    "   \n",
    "3. How do you remove a file from the repository history?\n",
    "   \n",
    "4. How do you temporarily save your changes without committing them?\n",
    "   \n",
    "5. How do you amend the most recent commit message?\n",
    "   \n",
    "6. How can you split a commit into multiple commits?\n",
    "   \n",
    "7. How do you display the changes between two branches?\n",
    "   \n",
    "8. What command would you use to see which remote repository a local repository is connected to?\n",
    "   \n",
    "9.  Explain the difference between `git merge` and `git rebase`.\n",
    "    \n",
    "10. How can you search for a specific commit message?"
   ]
  },
  {
   "cell_type": "markdown",
   "metadata": {},
   "source": [
    "#### 1\n",
    "I use git \"git log --branches --not --remotes\" because it will show all the local commits in every branch"
   ]
  },
  {
   "cell_type": "markdown",
   "metadata": {},
   "source": [
    "#### 2\n",
    "The git tag command can be used in many purposes such as creating, listing, or deleting tags in a Git repository. Tags are the markers for the specific commits in the project history. This is very useful if you want to refer to a commit later. "
   ]
  },
  {
   "cell_type": "markdown",
   "metadata": {},
   "source": [
    "### 3\n",
    "Use the command \"git-filter-repo\" to remove a file from the repository history."
   ]
  },
  {
   "cell_type": "markdown",
   "metadata": {},
   "source": [
    "### 4\n",
    "To save the changes without commit them, we use \"git stash\" command. To later work on it again, you can use \"git stash apply\"."
   ]
  },
  {
   "cell_type": "markdown",
   "metadata": {},
   "source": [
    "### 5\n",
    "To ammend the most recent commit message, run the following:\n",
    "git commit --amend -m \"New message\""
   ]
  },
  {
   "cell_type": "markdown",
   "metadata": {},
   "source": [
    "### 6\n",
    "If the commit that you want to split is the latest one, use \"git reset HEAD~\" \n",
    "\n",
    "If the commit that you want to split is not the latest one, use interactive rebasing\n",
    "\n",
    "First, use the command \"git reflog\" to find the commit hash\n",
    "\n",
    "Then use git rebase command with the commit's hash: \"git rebase -i HASH\"\n",
    "\n",
    "In the rebase edit scene, find the command that you want to split and replace the \"pick\" with \"edit\"\n",
    "\n",
    "Save and exit the rebase edit screen\n",
    "\n",
    "Reset the state to the previous commit with: \"git reset HEAD~\"\n",
    "\n",
    "Create different commits with the desired files and messages.\n",
    "\n",
    "Then type \"git rebase --continue\""
   ]
  },
  {
   "cell_type": "markdown",
   "metadata": {},
   "source": [
    "### 7\n",
    "To display the differences between 2 commands, we use: git diff \\<branch1\\> \\<branch2\\>\n",
    "\n",
    "We replace the branch1 and branch2 with the name of the branches"
   ]
  },
  {
   "cell_type": "markdown",
   "metadata": {},
   "source": [
    "### 8\n",
    "To display the remote repository that the local repository is connected to, we use git remote"
   ]
  },
  {
   "cell_type": "markdown",
   "metadata": {},
   "source": [
    "### 9\n",
    "Git merge: combine changes from 2 different branches to the target branch. It will create a merge commit of both branches.\n",
    "\n",
    "Git rebase: move the changes from one branch to another and make the commits on top of the commits of that branch\n",
    "\n",
    "Git merge is used to when you want to keep the main branch independent. Use git rebase if you prefer a clear and linear commit history."
   ]
  },
  {
   "cell_type": "markdown",
   "metadata": {},
   "source": [
    "### 10\n",
    "We use \"git log --grep=\"The message that we want to find\"\" to find the message in the commit history.\n",
    "\n",
    "Git log would show all the commit history and the grep option would let us search for a string patter or a message."
   ]
  }
 ],
 "metadata": {
  "language_info": {
   "name": "python"
  }
 },
 "nbformat": 4,
 "nbformat_minor": 2
}
